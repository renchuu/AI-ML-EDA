{
  "nbformat": 4,
  "nbformat_minor": 0,
  "metadata": {
    "colab": {
      "provenance": [],
      "authorship_tag": "ABX9TyPqR1jcjHMOma61YXu0t5FF",
      "include_colab_link": true
    },
    "kernelspec": {
      "name": "python3",
      "display_name": "Python 3"
    },
    "language_info": {
      "name": "python"
    }
  },
  "cells": [
    {
      "cell_type": "markdown",
      "metadata": {
        "id": "view-in-github",
        "colab_type": "text"
      },
      "source": [
        "<a href=\"https://colab.research.google.com/github/renchuu/AI-ML-EDA/blob/main/Data_prep.ipynb\" target=\"_parent\"><img src=\"https://colab.research.google.com/assets/colab-badge.svg\" alt=\"Open In Colab\"/></a>"
      ]
    },
    {
      "cell_type": "markdown",
      "source": [
        "# Preprocessing Data"
      ],
      "metadata": {
        "id": "elc6HJhCzfma"
      }
    },
    {
      "cell_type": "markdown",
      "source": [
        "Importing libraries for this step"
      ],
      "metadata": {
        "id": "Upbjr_3kpe2Q"
      }
    },
    {
      "cell_type": "code",
      "execution_count": null,
      "metadata": {
        "id": "tF1TB02aR8S1"
      },
      "outputs": [],
      "source": [
        "import pandas as pd\n",
        "import numpy as np\n",
        "import seaborn as sns\n",
        "import matplotlib.pyplot as plt\n",
        "import missingno as mno"
      ]
    },
    {
      "source": [
        "data = pd.read_csv('crown_sentencing.csv', encoding=\"latin-1\", error_bad_lines=False)\n",
        "#encoding=\"latin-1\","
      ],
      "cell_type": "code",
      "metadata": {
        "colab": {
          "base_uri": "https://localhost:8080/"
        },
        "id": "YTIu-E-Yce0N",
        "outputId": "66155219-3a49-4ae5-f646-bd05715d95ff",
        "collapsed": true
      },
      "execution_count": null,
      "outputs": [
        {
          "output_type": "stream",
          "name": "stderr",
          "text": [
            "<ipython-input-10-0ea8c6d26823>:1: FutureWarning: The error_bad_lines argument has been deprecated and will be removed in a future version. Use on_bad_lines in the future.\n",
            "\n",
            "\n",
            "  data = pd.read_csv('crown_sentencing.csv', encoding=\"latin-1\", error_bad_lines=False)\n",
            "Skipping line 5318: expected 19 fields, saw 23\n",
            "Skipping line 10609: expected 19 fields, saw 28\n",
            "Skipping line 20573: expected 19 fields, saw 23\n",
            "Skipping line 25559: expected 19 fields, saw 29\n",
            "\n",
            "Skipping line 33254: expected 19 fields, saw 26\n",
            "Skipping line 35933: expected 19 fields, saw 20\n",
            "Skipping line 41303: expected 19 fields, saw 27\n",
            "Skipping line 46467: expected 19 fields, saw 21\n",
            "Skipping line 51339: expected 19 fields, saw 27\n",
            "Skipping line 53822: expected 19 fields, saw 21\n",
            "Skipping line 56474: expected 19 fields, saw 22\n",
            "Skipping line 63907: expected 19 fields, saw 23\n",
            "\n",
            "Skipping line 69227: expected 19 fields, saw 24\n",
            "Skipping line 71819: expected 19 fields, saw 28\n",
            "Skipping line 79743: expected 19 fields, saw 23\n",
            "Skipping line 84680: expected 19 fields, saw 25\n",
            "Skipping line 92079: expected 19 fields, saw 24\n",
            "Skipping line 94710: expected 19 fields, saw 22\n",
            "\n",
            "Skipping line 102371: expected 19 fields, saw 26\n",
            "Skipping line 112688: expected 19 fields, saw 22\n",
            "Skipping line 115251: expected 19 fields, saw 28\n",
            "Skipping line 122784: expected 19 fields, saw 26\n",
            "Skipping line 128140: expected 19 fields, saw 23\n",
            "\n",
            "Skipping line 133087: expected 19 fields, saw 21\n",
            "Skipping line 138330: expected 19 fields, saw 31\n",
            "Skipping line 143290: expected 19 fields, saw 29\n",
            "Skipping line 155831: expected 19 fields, saw 26\n",
            "Skipping line 161304: expected 19 fields, saw 26\n",
            "\n",
            "Skipping line 168994: expected 19 fields, saw 24\n",
            "Skipping line 171673: expected 19 fields, saw 22\n",
            "Skipping line 176637: expected 19 fields, saw 26\n",
            "Skipping line 186526: expected 19 fields, saw 26\n",
            "Skipping line 191863: expected 19 fields, saw 25\n",
            "\n",
            "Skipping line 204647: expected 19 fields, saw 33\n",
            "Skipping line 214940: expected 19 fields, saw 25\n",
            "Skipping line 222282: expected 19 fields, saw 25\n",
            "Skipping line 227577: expected 19 fields, saw 30\n",
            "\n",
            "Skipping line 232832: expected 19 fields, saw 24\n",
            "Skipping line 235421: expected 19 fields, saw 22\n",
            "Skipping line 245370: expected 19 fields, saw 28\n",
            "Skipping line 255500: expected 19 fields, saw 27\n",
            "\n",
            "Skipping line 263357: expected 19 fields, saw 26\n",
            "Skipping line 268492: expected 19 fields, saw 27\n",
            "Skipping line 273625: expected 19 fields, saw 33\n",
            "Skipping line 275953: expected 19 fields, saw 24\n",
            "Skipping line 278296: expected 19 fields, saw 31\n",
            "Skipping line 288353: expected 19 fields, saw 20\n",
            "Skipping line 291036: expected 19 fields, saw 24\n",
            "\n",
            "Skipping line 296507: expected 19 fields, saw 28\n",
            "Skipping line 301372: expected 19 fields, saw 28\n",
            "Skipping line 308896: expected 19 fields, saw 21\n",
            "Skipping line 316723: expected 19 fields, saw 29\n",
            "Skipping line 324329: expected 19 fields, saw 25\n",
            "\n",
            "Skipping line 329257: expected 19 fields, saw 30\n",
            "Skipping line 337115: expected 19 fields, saw 24\n",
            "Skipping line 339511: expected 19 fields, saw 23\n",
            "Skipping line 347074: expected 19 fields, saw 30\n",
            "Skipping line 352207: expected 19 fields, saw 21\n",
            "Skipping line 356942: expected 19 fields, saw 20\n",
            "\n",
            "Skipping line 362480: expected 19 fields, saw 29\n",
            "Skipping line 367448: expected 19 fields, saw 21\n",
            "Skipping line 370037: expected 19 fields, saw 25\n",
            "Skipping line 385173: expected 19 fields, saw 25\n",
            "Skipping line 387818: expected 19 fields, saw 21\n",
            "Skipping line 392742: expected 19 fields, saw 26\n",
            "\n",
            "Skipping line 395201: expected 19 fields, saw 28\n",
            "Skipping line 405497: expected 19 fields, saw 31\n",
            "Skipping line 410433: expected 19 fields, saw 25\n",
            "Skipping line 413085: expected 19 fields, saw 23\n",
            "Skipping line 423190: expected 19 fields, saw 25\n",
            "\n",
            "Skipping line 428132: expected 19 fields, saw 26\n",
            "Skipping line 433131: expected 19 fields, saw 30\n",
            "Skipping line 440810: expected 19 fields, saw 28\n",
            "Skipping line 446063: expected 19 fields, saw 32\n",
            "Skipping line 448706: expected 19 fields, saw 34\n",
            "\n",
            "Skipping line 460745: expected 19 fields, saw 28\n",
            "Skipping line 468747: expected 19 fields, saw 25\n",
            "Skipping line 471176: expected 19 fields, saw 22\n",
            "Skipping line 476507: expected 19 fields, saw 24\n",
            "Skipping line 479137: expected 19 fields, saw 25\n",
            "Skipping line 486679: expected 19 fields, saw 21\n",
            "\n",
            "Skipping line 493956: expected 19 fields, saw 24\n",
            "Skipping line 498843: expected 19 fields, saw 21\n",
            "\n",
            "<ipython-input-10-0ea8c6d26823>:1: DtypeWarning: Columns (0,1) have mixed types. Specify dtype option on import or set low_memory=False.\n",
            "  data = pd.read_csv('crown_sentencing.csv', encoding=\"latin-1\", error_bad_lines=False)\n"
          ]
        }
      ]
    },
    {
      "cell_type": "code",
      "source": [
        "data.duplicated().sum()"
      ],
      "metadata": {
        "id": "a3rUO-2dyIdm",
        "colab": {
          "base_uri": "https://localhost:8080/"
        },
        "outputId": "62609355-5dee-4c0f-966a-41ed67d5ab43"
      },
      "execution_count": null,
      "outputs": [
        {
          "output_type": "execute_result",
          "data": {
            "text/plain": [
              "195981"
            ]
          },
          "metadata": {},
          "execution_count": 11
        }
      ]
    },
    {
      "cell_type": "code",
      "source": [
        "data.drop_duplicates()\n",
        "print(data.duplicated().sum())"
      ],
      "metadata": {
        "id": "m1_oOhqdZ_lo",
        "colab": {
          "base_uri": "https://localhost:8080/"
        },
        "outputId": "3f9fd46c-9a1e-4adf-f21f-b4cab136764c"
      },
      "execution_count": null,
      "outputs": [
        {
          "output_type": "stream",
          "name": "stdout",
          "text": [
            "195981\n"
          ]
        }
      ]
    },
    {
      "cell_type": "code",
      "source": [
        "\n",
        "#handling whitespaces and specific missing values\n",
        "data = data.replace(to_replace=r'^\\s*$', value=np.NAN, regex=True)\n",
        "data = data.replace('N/A', np.NAN)"
      ],
      "metadata": {
        "id": "kCDYYdVCo5Ha"
      },
      "execution_count": null,
      "outputs": []
    },
    {
      "cell_type": "code",
      "source": [
        "for column in data.columns:\n",
        "  if (data[column].isna().sum() >4000):\n",
        "    data = data.drop(columns = column)"
      ],
      "metadata": {
        "id": "notK_IHUlYug"
      },
      "execution_count": null,
      "outputs": []
    },
    {
      "cell_type": "code",
      "source": [
        "#separating columns\n",
        "categorical_columns = list(set(data.columns) - set(data._get_numeric_data().columns))\n",
        "num_columns = list(set(data._get_numeric_data().columns))"
      ],
      "metadata": {
        "id": "x_Q0b4kdY3m3"
      },
      "execution_count": null,
      "outputs": []
    },
    {
      "cell_type": "code",
      "source": [
        "#filling nulls with mean and mod\n",
        "for column in num_columns:\n",
        "  data[column] = data[column].replace(np.nan ,float(data[column].mean()))\n",
        "\n",
        "for column in categorical_columns:\n",
        "  data[column] = data[column].replace(np.nan ,data.mode()[column][0])\n",
        "\n",
        "#dropping any left nulls\n",
        "data.dropna(inplace=True)"
      ],
      "metadata": {
        "id": "Zv1VEts_b8WQ",
        "colab": {
          "base_uri": "https://localhost:8080/"
        },
        "outputId": "dfde8998-26fe-4258-bb3b-56dc8099bcf6",
        "collapsed": true
      },
      "execution_count": null,
      "outputs": [
        {
          "output_type": "stream",
          "name": "stderr",
          "text": [
            "<ipython-input-16-3e9ced8df0a1>:6: UserWarning: Unable to sort modes: '<' not supported between instances of 'str' and 'int'\n",
            "  data[column] = data[column].replace(np.nan ,data.mode()[column][0])\n",
            "<ipython-input-16-3e9ced8df0a1>:6: UserWarning: Unable to sort modes: '<' not supported between instances of 'str' and 'int'\n",
            "  data[column] = data[column].replace(np.nan ,data.mode()[column][0])\n",
            "<ipython-input-16-3e9ced8df0a1>:6: UserWarning: Unable to sort modes: '<' not supported between instances of 'str' and 'int'\n",
            "  data[column] = data[column].replace(np.nan ,data.mode()[column][0])\n",
            "<ipython-input-16-3e9ced8df0a1>:6: UserWarning: Unable to sort modes: '<' not supported between instances of 'str' and 'int'\n",
            "  data[column] = data[column].replace(np.nan ,data.mode()[column][0])\n",
            "<ipython-input-16-3e9ced8df0a1>:6: UserWarning: Unable to sort modes: '<' not supported between instances of 'str' and 'int'\n",
            "  data[column] = data[column].replace(np.nan ,data.mode()[column][0])\n",
            "<ipython-input-16-3e9ced8df0a1>:6: UserWarning: Unable to sort modes: '<' not supported between instances of 'str' and 'int'\n",
            "  data[column] = data[column].replace(np.nan ,data.mode()[column][0])\n",
            "<ipython-input-16-3e9ced8df0a1>:6: UserWarning: Unable to sort modes: '<' not supported between instances of 'str' and 'int'\n",
            "  data[column] = data[column].replace(np.nan ,data.mode()[column][0])\n",
            "<ipython-input-16-3e9ced8df0a1>:6: UserWarning: Unable to sort modes: '<' not supported between instances of 'str' and 'int'\n",
            "  data[column] = data[column].replace(np.nan ,data.mode()[column][0])\n",
            "<ipython-input-16-3e9ced8df0a1>:6: UserWarning: Unable to sort modes: '<' not supported between instances of 'str' and 'int'\n",
            "  data[column] = data[column].replace(np.nan ,data.mode()[column][0])\n",
            "<ipython-input-16-3e9ced8df0a1>:6: UserWarning: Unable to sort modes: '<' not supported between instances of 'str' and 'int'\n",
            "  data[column] = data[column].replace(np.nan ,data.mode()[column][0])\n",
            "<ipython-input-16-3e9ced8df0a1>:6: UserWarning: Unable to sort modes: '<' not supported between instances of 'str' and 'int'\n",
            "  data[column] = data[column].replace(np.nan ,data.mode()[column][0])\n",
            "<ipython-input-16-3e9ced8df0a1>:6: UserWarning: Unable to sort modes: '<' not supported between instances of 'str' and 'int'\n",
            "  data[column] = data[column].replace(np.nan ,data.mode()[column][0])\n",
            "<ipython-input-16-3e9ced8df0a1>:6: UserWarning: Unable to sort modes: '<' not supported between instances of 'str' and 'int'\n",
            "  data[column] = data[column].replace(np.nan ,data.mode()[column][0])\n",
            "<ipython-input-16-3e9ced8df0a1>:6: UserWarning: Unable to sort modes: '<' not supported between instances of 'str' and 'int'\n",
            "  data[column] = data[column].replace(np.nan ,data.mode()[column][0])\n",
            "<ipython-input-16-3e9ced8df0a1>:6: UserWarning: Unable to sort modes: '<' not supported between instances of 'str' and 'int'\n",
            "  data[column] = data[column].replace(np.nan ,data.mode()[column][0])\n"
          ]
        }
      ]
    },
    {
      "cell_type": "code",
      "source": [
        "#creating heatmap to visualise correlations for redundancy\n",
        "corrmat = data.corr().abs()\n",
        "top_corr_features = corrmat.index\n",
        "\n",
        "# plt.figure(figsize=(10,10))\n",
        "# g=sns.heatmap(corrmat,annot=True,cmap=\"RdYlGn\")\n",
        "sns.heatmap(data.corr(), annot=True)"
      ],
      "metadata": {
        "id": "47f5ClUvDbj6",
        "colab": {
          "base_uri": "https://localhost:8080/",
          "height": 547
        },
        "outputId": "db38622e-79ab-4c22-a782-b84e66698943"
      },
      "execution_count": null,
      "outputs": [
        {
          "output_type": "stream",
          "name": "stderr",
          "text": [
            "<ipython-input-17-3966589a7a2a>:2: FutureWarning: The default value of numeric_only in DataFrame.corr is deprecated. In a future version, it will default to False. Select only valid columns or specify the value of numeric_only to silence this warning.\n",
            "  corrmat = data.corr().abs()\n",
            "<ipython-input-17-3966589a7a2a>:7: FutureWarning: The default value of numeric_only in DataFrame.corr is deprecated. In a future version, it will default to False. Select only valid columns or specify the value of numeric_only to silence this warning.\n",
            "  sns.heatmap(data.corr(), annot=True)\n"
          ]
        },
        {
          "output_type": "execute_result",
          "data": {
            "text/plain": [
              "<Axes: >"
            ]
          },
          "metadata": {},
          "execution_count": 17
        },
        {
          "output_type": "display_data",
          "data": {
            "text/plain": [
              "<Figure size 640x480 with 2 Axes>"
            ],
            "image/png": "[encoded data removed]"
          },
          "metadata": {}
        }
      ]
    },
    {
      "cell_type": "code",
      "source": [
        "#masking upper triangle\n",
        "mask = np.triu(np.ones_like(corrmat, dtype = bool))\n",
        "tri = corrmat.mask(mask)\n",
        "\n",
        "#removing highly correlated features\n",
        "cor_feature = [x for x in tri.columns if any(tri[x] > 0.75) ]\n",
        "\n",
        "data = data.drop(cor_feature, axis = 1)"
      ],
      "metadata": {
        "id": "FDb4X6mmcCoB"
      },
      "execution_count": null,
      "outputs": []
    },
    {
      "cell_type": "code",
      "source": [
        "\n",
        "#removing irrelevant features\n",
        "\n",
        "def condition(x): #condition to check\n",
        "    return x < 0.1\n",
        "\n",
        "irr_feature = []\n",
        "for x in tri.columns:\n",
        "  n_satisfying = np.count_nonzero(condition(tri[x]))  #count if condition is satisfied\n",
        "  most_meet_condition = n_satisfying > len(tri[x]) // 2   #if most of the elements satisfies returns true\n",
        "  if most_meet_condition:\n",
        "     irr_feature.append(x)\n",
        "\n",
        "data = data.drop(irr_feature, axis = 1)"
      ],
      "metadata": {
        "id": "eFViW4QT4LxK"
      },
      "execution_count": null,
      "outputs": []
    },
    {
      "cell_type": "code",
      "source": [
        "#saving the data\n",
        "\n",
        "data.to_csv(\"criminal-records-cleaned.csv\", index = False)"
      ],
      "metadata": {
        "id": "jTRFLRWTYhrr"
      },
      "execution_count": null,
      "outputs": []
    },
    {
      "cell_type": "markdown",
      "source": [
        "# Visuals"
      ],
      "metadata": {
        "id": "VeFA6JZ4p32e"
      }
    },
    {
      "cell_type": "code",
      "source": [],
      "metadata": {
        "id": "HJHJgNP8p2zg"
      },
      "execution_count": null,
      "outputs": []
    },
    {
      "cell_type": "markdown",
      "source": [
        "# ML *Code*\n",
        "-checking data-"
      ],
      "metadata": {
        "id": "A3tmQcXHQywx"
      }
    },
    {
      "cell_type": "code",
      "source": [
        "data = pd.read_csv(\"criminal-records-cleaned.csv\")"
      ],
      "metadata": {
        "id": "csuP74uZQ0jW"
      },
      "execution_count": null,
      "outputs": []
    },
    {
      "cell_type": "code",
      "source": [
        "data.describe()"
      ],
      "metadata": {
        "id": "N23z_DpLZDKf",
        "colab": {
          "base_uri": "https://localhost:8080/",
          "height": 300
        },
        "outputId": "113b4d8d-0156-44d6-8544-7175d0c94fa9"
      },
      "execution_count": null,
      "outputs": [
        {
          "output_type": "execute_result",
          "data": {
            "text/plain": [
              "           Sentenced\n",
              "count  571044.000000\n",
              "mean        1.114387\n",
              "std         0.451578\n",
              "min         1.000000\n",
              "25%         1.000000\n",
              "50%         1.000000\n",
              "75%         1.000000\n",
              "max        21.000000"
            ],
            "text/html": [
              "\n",
              "  <div id=\"df-fe7c31f4-2c08-4182-bf2b-1295fa56e3e1\" class=\"colab-df-container\">\n",
              "    <div>\n",
              "<style scoped>\n",
              "    .dataframe tbody tr th:only-of-type {\n",
              "        vertical-align: middle;\n",
              "    }\n",
              "\n",
              "    .dataframe tbody tr th {\n",
              "        vertical-align: top;\n",
              "    }\n",
              "\n",
              "    .dataframe thead th {\n",
              "        text-align: right;\n",
              "    }\n",
              "</style>\n",
              "<table border=\"1\" class=\"dataframe\">\n",
              "  <thead>\n",
              "    <tr style=\"text-align: right;\">\n",
              "      <th></th>\n",
              "      <th>Sentenced</th>\n",
              "    </tr>\n",
              "  </thead>\n",
              "  <tbody>\n",
              "    <tr>\n",
              "      <th>count</th>\n",
              "      <td>571044.000000</td>\n",
              "    </tr>\n",
              "    <tr>\n",
              "      <th>mean</th>\n",
              "      <td>1.114387</td>\n",
              "    </tr>\n",
              "    <tr>\n",
              "      <th>std</th>\n",
              "      <td>0.451578</td>\n",
              "    </tr>\n",
              "    <tr>\n",
              "      <th>min</th>\n",
              "      <td>1.000000</td>\n",
              "    </tr>\n",
              "    <tr>\n",
              "      <th>25%</th>\n",
              "      <td>1.000000</td>\n",
              "    </tr>\n",
              "    <tr>\n",
              "      <th>50%</th>\n",
              "      <td>1.000000</td>\n",
              "    </tr>\n",
              "    <tr>\n",
              "      <th>75%</th>\n",
              "      <td>1.000000</td>\n",
              "    </tr>\n",
              "    <tr>\n",
              "      <th>max</th>\n",
              "      <td>21.000000</td>\n",
              "    </tr>\n",
              "  </tbody>\n",
              "</table>\n",
              "</div>\n",
              "    <div class=\"colab-df-buttons\">\n",
              "\n",
              "  <div class=\"colab-df-container\">\n",
              "    <button class=\"colab-df-convert\" onclick=\"convertToInteractive('df-fe7c31f4-2c08-4182-bf2b-1295fa56e3e1')\"\n",
              "            title=\"Convert this dataframe to an interactive table.\"\n",
              "            style=\"display:none;\">\n",
              "\n",
              "  <svg xmlns=\"http://www.w3.org/2000/svg\" height=\"24px\" viewBox=\"0 -960 960 960\">\n",
              "    <path d=\"M120-120v-720h720v720H120Zm60-500h600v-160H180v160Zm220 220h160v-160H400v160Zm0 220h160v-160H400v160ZM180-400h160v-160H180v160Zm440 0h160v-160H620v160ZM180-180h160v-160H180v160Zm440 0h160v-160H620v160Z\"/>\n",
              "  </svg>\n",
              "    </button>\n",
              "\n",
              "  <style>\n",
              "    .colab-df-container {\n",
              "      display:flex;\n",
              "      gap: 12px;\n",
              "    }\n",
              "\n",
              "    .colab-df-convert {\n",
              "      background-color: #E8F0FE;\n",
              "      border: none;\n",
              "      border-radius: 50%;\n",
              "      cursor: pointer;\n",
              "      display: none;\n",
              "      fill: #1967D2;\n",
              "      height: 32px;\n",
              "      padding: 0 0 0 0;\n",
              "      width: 32px;\n",
              "    }\n",
              "\n",
              "    .colab-df-convert:hover {\n",
              "      background-color: #E2EBFA;\n",
              "      box-shadow: 0px 1px 2px rgba(60, 64, 67, 0.3), 0px 1px 3px 1px rgba(60, 64, 67, 0.15);\n",
              "      fill: #174EA6;\n",
              "    }\n",
              "\n",
              "    .colab-df-buttons div {\n",
              "      margin-bottom: 4px;\n",
              "    }\n",
              "\n",
              "    [theme=dark] .colab-df-convert {\n",
              "      background-color: #3B4455;\n",
              "      fill: #D2E3FC;\n",
              "    }\n",
              "\n",
              "    [theme=dark] .colab-df-convert:hover {\n",
              "      background-color: #434B5C;\n",
              "      box-shadow: 0px 1px 3px 1px rgba(0, 0, 0, 0.15);\n",
              "      filter: drop-shadow(0px 1px 2px rgba(0, 0, 0, 0.3));\n",
              "      fill: #FFFFFF;\n",
              "    }\n",
              "  </style>\n",
              "\n",
              "    <script>\n",
              "      const buttonEl =\n",
              "        document.querySelector('#df-fe7c31f4-2c08-4182-bf2b-1295fa56e3e1 button.colab-df-convert');\n",
              "      buttonEl.style.display =\n",
              "        google.colab.kernel.accessAllowed ? 'block' : 'none';\n",
              "\n",
              "      async function convertToInteractive(key) {\n",
              "        const element = document.querySelector('#df-fe7c31f4-2c08-4182-bf2b-1295fa56e3e1');\n",
              "        const dataTable =\n",
              "          await google.colab.kernel.invokeFunction('convertToInteractive',\n",
              "                                                    [key], {});\n",
              "        if (!dataTable) return;\n",
              "\n",
              "        const docLinkHtml = 'Like what you see? Visit the ' +\n",
              "          '<a target=\"_blank\" href=https://colab.research.google.com/notebooks/data_table.ipynb>data table notebook</a>'\n",
              "          + ' to learn more about interactive tables.';\n",
              "        element.innerHTML = '';\n",
              "        dataTable['output_type'] = 'display_data';\n",
              "        await google.colab.output.renderOutput(dataTable, element);\n",
              "        const docLink = document.createElement('div');\n",
              "        docLink.innerHTML = docLinkHtml;\n",
              "        element.appendChild(docLink);\n",
              "      }\n",
              "    </script>\n",
              "  </div>\n",
              "\n",
              "\n",
              "<div id=\"df-c3aa044b-d52a-4767-aecd-51c89f865278\">\n",
              "  <button class=\"colab-df-quickchart\" onclick=\"quickchart('df-c3aa044b-d52a-4767-aecd-51c89f865278')\"\n",
              "            title=\"Suggest charts\"\n",
              "            style=\"display:none;\">\n",
              "\n",
              "<svg xmlns=\"http://www.w3.org/2000/svg\" height=\"24px\"viewBox=\"0 0 24 24\"\n",
              "     width=\"24px\">\n",
              "    <g>\n",
              "        <path d=\"M19 3H5c-1.1 0-2 .9-2 2v14c0 1.1.9 2 2 2h14c1.1 0 2-.9 2-2V5c0-1.1-.9-2-2-2zM9 17H7v-7h2v7zm4 0h-2V7h2v10zm4 0h-2v-4h2v4z\"/>\n",
              "    </g>\n",
              "</svg>\n",
              "  </button>\n",
              "\n",
              "<style>\n",
              "  .colab-df-quickchart {\n",
              "      --bg-color: #E8F0FE;\n",
              "      --fill-color: #1967D2;\n",
              "      --hover-bg-color: #E2EBFA;\n",
              "      --hover-fill-color: #174EA6;\n",
              "      --disabled-fill-color: #AAA;\n",
              "      --disabled-bg-color: #DDD;\n",
              "  }\n",
              "\n",
              "  [theme=dark] .colab-df-quickchart {\n",
              "      --bg-color: #3B4455;\n",
              "      --fill-color: #D2E3FC;\n",
              "      --hover-bg-color: #434B5C;\n",
              "      --hover-fill-color: #FFFFFF;\n",
              "      --disabled-bg-color: #3B4455;\n",
              "      --disabled-fill-color: #666;\n",
              "  }\n",
              "\n",
              "  .colab-df-quickchart {\n",
              "    background-color: var(--bg-color);\n",
              "    border: none;\n",
              "    border-radius: 50%;\n",
              "    cursor: pointer;\n",
              "    display: none;\n",
              "    fill: var(--fill-color);\n",
              "    height: 32px;\n",
              "    padding: 0;\n",
              "    width: 32px;\n",
              "  }\n",
              "\n",
              "  .colab-df-quickchart:hover {\n",
              "    background-color: var(--hover-bg-color);\n",
              "    box-shadow: 0 1px 2px rgba(60, 64, 67, 0.3), 0 1px 3px 1px rgba(60, 64, 67, 0.15);\n",
              "    fill: var(--button-hover-fill-color);\n",
              "  }\n",
              "\n",
              "  .colab-df-quickchart-complete:disabled,\n",
              "  .colab-df-quickchart-complete:disabled:hover {\n",
              "    background-color: var(--disabled-bg-color);\n",
              "    fill: var(--disabled-fill-color);\n",
              "    box-shadow: none;\n",
              "  }\n",
              "\n",
              "  .colab-df-spinner {\n",
              "    border: 2px solid var(--fill-color);\n",
              "    border-color: transparent;\n",
              "    border-bottom-color: var(--fill-color);\n",
              "    animation:\n",
              "      spin 1s steps(1) infinite;\n",
              "  }\n",
              "\n",
              "  @keyframes spin {\n",
              "    0% {\n",
              "      border-color: transparent;\n",
              "      border-bottom-color: var(--fill-color);\n",
              "      border-left-color: var(--fill-color);\n",
              "    }\n",
              "    20% {\n",
              "      border-color: transparent;\n",
              "      border-left-color: var(--fill-color);\n",
              "      border-top-color: var(--fill-color);\n",
              "    }\n",
              "    30% {\n",
              "      border-color: transparent;\n",
              "      border-left-color: var(--fill-color);\n",
              "      border-top-color: var(--fill-color);\n",
              "      border-right-color: var(--fill-color);\n",
              "    }\n",
              "    40% {\n",
              "      border-color: transparent;\n",
              "      border-right-color: var(--fill-color);\n",
              "      border-top-color: var(--fill-color);\n",
              "    }\n",
              "    60% {\n",
              "      border-color: transparent;\n",
              "      border-right-color: var(--fill-color);\n",
              "    }\n",
              "    80% {\n",
              "      border-color: transparent;\n",
              "      border-right-color: var(--fill-color);\n",
              "      border-bottom-color: var(--fill-color);\n",
              "    }\n",
              "    90% {\n",
              "      border-color: transparent;\n",
              "      border-bottom-color: var(--fill-color);\n",
              "    }\n",
              "  }\n",
              "</style>\n",
              "\n",
              "  <script>\n",
              "    async function quickchart(key) {\n",
              "      const quickchartButtonEl =\n",
              "        document.querySelector('#' + key + ' button');\n",
              "      quickchartButtonEl.disabled = true;  // To prevent multiple clicks.\n",
              "      quickchartButtonEl.classList.add('colab-df-spinner');\n",
              "      try {\n",
              "        const charts = await google.colab.kernel.invokeFunction(\n",
              "            'suggestCharts', [key], {});\n",
              "      } catch (error) {\n",
              "        console.error('Error during call to suggestCharts:', error);\n",
              "      }\n",
              "      quickchartButtonEl.classList.remove('colab-df-spinner');\n",
              "      quickchartButtonEl.classList.add('colab-df-quickchart-complete');\n",
              "    }\n",
              "    (() => {\n",
              "      let quickchartButtonEl =\n",
              "        document.querySelector('#df-c3aa044b-d52a-4767-aecd-51c89f865278 button');\n",
              "      quickchartButtonEl.style.display =\n",
              "        google.colab.kernel.accessAllowed ? 'block' : 'none';\n",
              "    })();\n",
              "  </script>\n",
              "</div>\n",
              "\n",
              "    </div>\n",
              "  </div>\n"
            ]
          },
          "metadata": {},
          "execution_count": 23
        }
      ]
    },
    {
      "cell_type": "code",
      "source": [
        "data.info()"
      ],
      "metadata": {
        "id": "d62xdulFZ9U0",
        "colab": {
          "base_uri": "https://localhost:8080/"
        },
        "outputId": "ac7ea4cb-6669-4fff-befa-0b12110bd186"
      },
      "execution_count": null,
      "outputs": [
        {
          "output_type": "stream",
          "name": "stdout",
          "text": [
            "<class 'pandas.core.frame.DataFrame'>\n",
            "RangeIndex: 571044 entries, 0 to 571043\n",
            "Data columns (total 16 columns):\n",
            " #   Column               Non-Null Count   Dtype  \n",
            "---  ------               --------------   -----  \n",
            " 0   Unnamed: 0           571044 non-null  object \n",
            " 1   Year                 571044 non-null  object \n",
            " 2   Quarter              571044 non-null  object \n",
            " 3   Offence type         571044 non-null  object \n",
            " 4   Offence group        571044 non-null  object \n",
            " 5   HO offence code      571044 non-null  object \n",
            " 6   Offence              571044 non-null  object \n",
            " 7   Person/other         571044 non-null  object \n",
            " 8   Sex                  571044 non-null  object \n",
            " 9   Age group            571044 non-null  object \n",
            " 10  Age range            571044 non-null  object \n",
            " 11  Police Force Area    571044 non-null  object \n",
            " 12  Sentence Outcome     571044 non-null  object \n",
            " 13  Detailed Sentence    571044 non-null  object \n",
            " 14  Plea at Crown Court  571044 non-null  object \n",
            " 15  Sentenced            571044 non-null  float64\n",
            "dtypes: float64(1), object(15)\n",
            "memory usage: 69.7+ MB\n"
          ]
        }
      ]
    },
    {
      "cell_type": "code",
      "source": [
        "data['Offence type'].unique()"
      ],
      "metadata": {
        "id": "rzL4nl2paIyL",
        "colab": {
          "base_uri": "https://localhost:8080/"
        },
        "outputId": "6c1fcade-2e30-4f63-81dc-2533915e0651"
      },
      "execution_count": null,
      "outputs": [
        {
          "output_type": "execute_result",
          "data": {
            "text/plain": [
              "array(['01: Indictable only', '02: Triable Either Way', 'diate custody',\n",
              "       '03: Summary non-motoring', '04: Summary motoring', '05 Not known',\n",
              "       '02: Tr: Suspended sentence',\n",
              "       '02: Triable Either Way in production of a controlled drug - class B (cannabis, including cannabis resin, cannabinol and cannabinol derivatives)',\n",
              "       'Metropolitan Police', '02: Triable Either B', '02: Male',\n",
              "       '07: Total Immediate custody', ',NA,08: Suspended Sentence\"',\n",
              "       '01: Female', '02: Triable Either g', 'Way', '02: Young adults'],\n",
              "      dtype=object)"
            ]
          },
          "metadata": {},
          "execution_count": 25
        }
      ]
    },
    {
      "cell_type": "code",
      "source": [
        "data['Offence group'].value_counts()"
      ],
      "metadata": {
        "id": "NHh4vvikbG7T",
        "colab": {
          "base_uri": "https://localhost:8080/"
        },
        "outputId": "24eabcbb-229c-4566-de56-dde438e6e299"
      },
      "execution_count": null,
      "outputs": [
        {
          "output_type": "execute_result",
          "data": {
            "text/plain": [
              "06: Drug offences                                                                                                      111529\n",
              "01: Violence against the person                                                                                         98173\n",
              "09: Miscellaneous crimes against society                                                                                93148\n",
              "04: Theft Offences                                                                                                      68945\n",
              "07: Possession of weapons                                                                                               42768\n",
              "02: Sexual offences                                                                                                     36312\n",
              "08: Public order offences                                                                                               35094\n",
              "11: Summary non-motoring                                                                                                25022\n",
              "10: Fraud Offences                                                                                                      22396\n",
              "03: Robbery                                                                                                             20887\n",
              "12: Summary motoring                                                                                                     8192\n",
              "05: Criminal damage and arson                                                                                            5753\n",
              "13: Not known                                                                                                            2808\n",
              "28.2 Burglary in a Dwelling - triable either way                                                                            1\n",
              "02: Black                                                                                                                   1\n",
              "02: Not Guilty plea                                                                                                         1\n",
              "09: Miscellaneous crimes t                                                                                                  1\n",
              "09: Miscellaneous crimes agains: Suspended Sentence                                                                         1\n",
              "10: Fraud Offencon to make a gain for oneself or another or to cause loss to another or to expose another to a risk         1\n",
              "10: Fraud Offenc5-29 (2017 onwards)                                                                                         1\n",
              "11Total Immediate custody                                                                                                   1\n",
              "06: Suspended sentence                                                                                                      1\n",
              "15: Custody - More than 5 years and up to 6 years                                                                           1\n",
              "11 cannabinol and cannabinol derivatives)                                                                                   1\n",
              "05: White                                                                                                                   1\n",
              "06: Drug offences - Assisting unlawful immigration to member state                                                          1\n",
              "92A.02 Unlawful importation - Class B                                                                                       1\n",
              "92A.10 Production, supply and possession with intent to supply a controlled drug - Class B                                  1\n",
              "09: Custody - More than 12 months and up to 18 months                                                                       1\n",
              "04: 18-20                                                                                                                   1\n",
              "Name: Offence group, dtype: int64"
            ]
          },
          "metadata": {},
          "execution_count": 26
        }
      ]
    },
    {
      "cell_type": "markdown",
      "source": [
        "# Creating Random Forest Model\n",
        "\n",
        "**Splitting data**"
      ],
      "metadata": {
        "id": "NQ-rOSLMcFU5"
      }
    },
    {
      "cell_type": "code",
      "source": [
        "from sklearn.model_selection import train_test_split\n",
        "from sklearn.metrics import classification_report, confusion_matrix, accuracy_score\n",
        "from sklearn.ensemble import RandomForestClassifier\n",
        "from sklearn.preprocessing import LabelEncoder, OneHotEncoder"
      ],
      "metadata": {
        "id": "lywc4G9jb-bT"
      },
      "execution_count": null,
      "outputs": []
    },
    {
      "cell_type": "code",
      "source": [
        "#input and target\n",
        "x = data.drop('Sentenced', axis = 1)\n",
        "y = data['Sentenced']"
      ],
      "metadata": {
        "id": "tFFMoGhKdbBn"
      },
      "execution_count": null,
      "outputs": []
    },
    {
      "cell_type": "code",
      "source": [
        "x_train, x_test, y_train, y_test = train_test_split(pd.get_dummies(x), y, test_size=0.3)"
      ],
      "metadata": {
        "id": "wqhRvdnhd4Hr"
      },
      "execution_count": null,
      "outputs": []
    },
    {
      "cell_type": "markdown",
      "source": [
        "**Creating model**"
      ],
      "metadata": {
        "id": "t4WuQIexeJYr"
      }
    },
    {
      "cell_type": "code",
      "source": [
        "data"
      ],
      "metadata": {
        "id": "EE8nzIXBfDyw"
      },
      "execution_count": null,
      "outputs": []
    },
    {
      "cell_type": "code",
      "source": [
        "classifier = RandomForestClassifier()\n",
        "\n",
        "classifier.fit(x_train, y_train)\n",
        "y_pred = classifier.predict(x_test)"
      ],
      "metadata": {
        "id": "2uG2138ueJCc",
        "colab": {
          "base_uri": "https://localhost:8080/",
          "height": 237
        },
        "outputId": "8c2d3e2b-5ffd-4757-8240-e48358457d3d"
      },
      "execution_count": null,
      "outputs": [
        {
          "output_type": "error",
          "ename": "NameError",
          "evalue": "name 'RandomForestClassifier' is not defined",
          "traceback": [
            "\u001b[0;31m---------------------------------------------------------------------------\u001b[0m",
            "\u001b[0;31mNameError\u001b[0m                                 Traceback (most recent call last)",
            "\u001b[0;32m<ipython-input-1-a8c592e97613>\u001b[0m in \u001b[0;36m<cell line: 1>\u001b[0;34m()\u001b[0m\n\u001b[0;32m----> 1\u001b[0;31m \u001b[0mclassifier\u001b[0m \u001b[0;34m=\u001b[0m \u001b[0mRandomForestClassifier\u001b[0m\u001b[0;34m(\u001b[0m\u001b[0;34m)\u001b[0m\u001b[0;34m\u001b[0m\u001b[0;34m\u001b[0m\u001b[0m\n\u001b[0m\u001b[1;32m      2\u001b[0m \u001b[0;34m\u001b[0m\u001b[0m\n\u001b[1;32m      3\u001b[0m \u001b[0mclassifier\u001b[0m\u001b[0;34m.\u001b[0m\u001b[0mfit\u001b[0m\u001b[0;34m(\u001b[0m\u001b[0mx_train\u001b[0m\u001b[0;34m,\u001b[0m \u001b[0my_train\u001b[0m\u001b[0;34m)\u001b[0m\u001b[0;34m\u001b[0m\u001b[0;34m\u001b[0m\u001b[0m\n\u001b[1;32m      4\u001b[0m \u001b[0my_pred\u001b[0m \u001b[0;34m=\u001b[0m \u001b[0mclassifier\u001b[0m\u001b[0;34m.\u001b[0m\u001b[0mpredict\u001b[0m\u001b[0;34m(\u001b[0m\u001b[0mx_test\u001b[0m\u001b[0;34m)\u001b[0m\u001b[0;34m\u001b[0m\u001b[0;34m\u001b[0m\u001b[0m\n",
            "\u001b[0;31mNameError\u001b[0m: name 'RandomForestClassifier' is not defined"
          ]
        }
      ]
    },
    {
      "cell_type": "code",
      "source": [
        "accuracy_score(y_test, y_pred)"
      ],
      "metadata": {
        "id": "k6X-Uc-FecLT"
      },
      "execution_count": null,
      "outputs": []
    },
    {
      "cell_type": "code",
      "source": [
        "print(classification_report(y_test, y_pred))"
      ],
      "metadata": {
        "id": "KYG8ZwtlkTtA"
      },
      "execution_count": null,
      "outputs": []
    },
    {
      "cell_type": "code",
      "source": [
        "#confusion matrix\n",
        "\n",
        "conf_matrix = confusion_matrix(y_test, y_pred)\n",
        "\n",
        "labels = data.columns\n",
        "\n",
        "figure = plt.figure(figsize = (10,10))\n",
        "ax = sns.heatmap(conf_matrix, annot=True, cmap='Reds', fmt='.0f', xticklabels = labels, yticklabels = labels)\n",
        "ax.set_title('confusion matrix')\n",
        "ax.set_xlabel('predicted values')\n",
        "ax.set_ylabel('actual values')"
      ],
      "metadata": {
        "id": "gv3aCYUPkjgC"
      },
      "execution_count": null,
      "outputs": []
    }
  ]
}